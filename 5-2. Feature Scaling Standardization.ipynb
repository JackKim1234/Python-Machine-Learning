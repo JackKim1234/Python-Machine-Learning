{
 "cells": [
  {
   "cell_type": "code",
   "execution_count": 1,
   "id": "79f37777",
   "metadata": {},
   "outputs": [],
   "source": [
    "from sklearn import preprocessing\n",
    "import numpy as np\n",
    "import pandas as pd"
   ]
  },
  {
   "cell_type": "code",
   "execution_count": 2,
   "id": "bc6990fb",
   "metadata": {},
   "outputs": [],
   "source": [
    "NBA_FILE_PATH = 'C:/Users/USER/Desktop/김주호/코딩/Python/2. Machine Learning/NBA_player_of_the_week.csv'"
   ]
  },
  {
   "cell_type": "code",
   "execution_count": 3,
   "id": "863b3a75",
   "metadata": {},
   "outputs": [],
   "source": [
    "pd.set_option('display.float_format', lambda x: '%.5f' % x)          # 소수점 5번째 자리까지만 출력되도록 설정"
   ]
  },
  {
   "cell_type": "code",
   "execution_count": 4,
   "id": "837533d6",
   "metadata": {},
   "outputs": [],
   "source": [
    "nba_player_of_the_week_df = pd.read_csv(NBA_FILE_PATH)"
   ]
  },
  {
   "cell_type": "code",
   "execution_count": 5,
   "id": "7986f82f",
   "metadata": {},
   "outputs": [],
   "source": [
    "height_weight_age_df = nba_player_of_the_week_df[['Height CM','Weight KG','Age']]"
   ]
  },
  {
   "cell_type": "code",
   "execution_count": 6,
   "id": "42b9d7b1",
   "metadata": {},
   "outputs": [],
   "source": [
    "scaler = preprocessing.StandardScaler()                             # 앞의 경우와 유일한 차이가 나타나는 것 StandardScalar()"
   ]
  },
  {
   "cell_type": "code",
   "execution_count": 7,
   "id": "536c842d",
   "metadata": {},
   "outputs": [],
   "source": [
    "standardized_data = scaler.fit_transform(height_weight_age_df)"
   ]
  },
  {
   "cell_type": "code",
   "execution_count": 8,
   "id": "97b50d5e",
   "metadata": {},
   "outputs": [],
   "source": [
    "standardized_df = pd.DataFrame(standardized_data, columns=['Height', 'Weight', 'Age'])"
   ]
  },
  {
   "cell_type": "code",
   "execution_count": 9,
   "id": "bc8d7b6d",
   "metadata": {},
   "outputs": [
    {
     "data": {
      "text/html": [
       "<div>\n",
       "<style scoped>\n",
       "    .dataframe tbody tr th:only-of-type {\n",
       "        vertical-align: middle;\n",
       "    }\n",
       "\n",
       "    .dataframe tbody tr th {\n",
       "        vertical-align: top;\n",
       "    }\n",
       "\n",
       "    .dataframe thead th {\n",
       "        text-align: right;\n",
       "    }\n",
       "</style>\n",
       "<table border=\"1\" class=\"dataframe\">\n",
       "  <thead>\n",
       "    <tr style=\"text-align: right;\">\n",
       "      <th></th>\n",
       "      <th>Height</th>\n",
       "      <th>Weight</th>\n",
       "      <th>Age</th>\n",
       "    </tr>\n",
       "  </thead>\n",
       "  <tbody>\n",
       "    <tr>\n",
       "      <th>count</th>\n",
       "      <td>1340.00000</td>\n",
       "      <td>1340.00000</td>\n",
       "      <td>1340.00000</td>\n",
       "    </tr>\n",
       "    <tr>\n",
       "      <th>mean</th>\n",
       "      <td>-0.00000</td>\n",
       "      <td>-0.00000</td>\n",
       "      <td>-0.00000</td>\n",
       "    </tr>\n",
       "    <tr>\n",
       "      <th>std</th>\n",
       "      <td>1.00037</td>\n",
       "      <td>1.00037</td>\n",
       "      <td>1.00037</td>\n",
       "    </tr>\n",
       "    <tr>\n",
       "      <th>min</th>\n",
       "      <td>-2.78410</td>\n",
       "      <td>-2.38357</td>\n",
       "      <td>-2.27629</td>\n",
       "    </tr>\n",
       "    <tr>\n",
       "      <th>25%</th>\n",
       "      <td>-0.86194</td>\n",
       "      <td>-0.59862</td>\n",
       "      <td>-0.80545</td>\n",
       "    </tr>\n",
       "    <tr>\n",
       "      <th>50%</th>\n",
       "      <td>-0.00765</td>\n",
       "      <td>-0.17024</td>\n",
       "      <td>-0.21711</td>\n",
       "    </tr>\n",
       "    <tr>\n",
       "      <th>75%</th>\n",
       "      <td>0.73986</td>\n",
       "      <td>0.82934</td>\n",
       "      <td>0.66539</td>\n",
       "    </tr>\n",
       "    <tr>\n",
       "      <th>max</th>\n",
       "      <td>2.98237</td>\n",
       "      <td>3.25687</td>\n",
       "      <td>3.90124</td>\n",
       "    </tr>\n",
       "  </tbody>\n",
       "</table>\n",
       "</div>"
      ],
      "text/plain": [
       "          Height     Weight        Age\n",
       "count 1340.00000 1340.00000 1340.00000\n",
       "mean    -0.00000   -0.00000   -0.00000\n",
       "std      1.00037    1.00037    1.00037\n",
       "min     -2.78410   -2.38357   -2.27629\n",
       "25%     -0.86194   -0.59862   -0.80545\n",
       "50%     -0.00765   -0.17024   -0.21711\n",
       "75%      0.73986    0.82934    0.66539\n",
       "max      2.98237    3.25687    3.90124"
      ]
     },
     "execution_count": 9,
     "metadata": {},
     "output_type": "execute_result"
    }
   ],
   "source": [
    "standardized_df.describe()"
   ]
  },
  {
   "cell_type": "code",
   "execution_count": null,
   "id": "bb397437",
   "metadata": {},
   "outputs": [],
   "source": []
  }
 ],
 "metadata": {
  "kernelspec": {
   "display_name": "Python 3",
   "language": "python",
   "name": "python3"
  },
  "language_info": {
   "codemirror_mode": {
    "name": "ipython",
    "version": 3
   },
   "file_extension": ".py",
   "mimetype": "text/x-python",
   "name": "python",
   "nbconvert_exporter": "python",
   "pygments_lexer": "ipython3",
   "version": "3.8.8"
  }
 },
 "nbformat": 4,
 "nbformat_minor": 5
}
