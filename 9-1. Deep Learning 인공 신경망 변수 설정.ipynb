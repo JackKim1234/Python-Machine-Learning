{
 "cells": [
  {
   "cell_type": "code",
   "execution_count": 1,
   "id": "f622d8d5",
   "metadata": {},
   "outputs": [],
   "source": [
    "import numpy as np"
   ]
  },
  {
   "cell_type": "code",
   "execution_count": 2,
   "id": "43b9532e",
   "metadata": {},
   "outputs": [],
   "source": [
    "np.random.seed(42)    # 무작위로 변수 지정 (but 원하는 값들 내에서는 고정된 난수)"
   ]
  },
  {
   "cell_type": "code",
   "execution_count": 3,
   "id": "dc91b62c",
   "metadata": {},
   "outputs": [],
   "source": [
    "def initialize_parameters(neurons_per_layer):           # 신경망 가중치, 편향, ...  변수 지정해주는 함수\n",
    "    L = len(neurons_per_layer) - 1                      # 층 개수 설정해주는 변수 Layer\n",
    "    parameters = {}                                     # 변수들을 딕셔너리 형태로 저장\n",
    "    \n",
    "    # 각 층에 해당하는 가중치와 편향을 알아야 한다. 예를 들어 층이 3개이면 \"1층 가중치, 편향\"  \"2층 가중치, 편향\"  \"3층 가중치, 편향\" \n",
    "    # 위에서 말한 6개의 변수 행렬들을 Dictionary로 묶어야 한다.\n",
    "    \n",
    "    for l in range(1, L+1):\n",
    "        parameters['W' + str(l)] = np.random.randn(neurons_per_layer[l], neurons_per_layer[l-1]) * np.sqrt(1. / neurons_per_layer[l])\n",
    "        parameters['b' + str(l)] = np.random.randn(neurons_per_layer[l]) * np.sqrt(1. / neurons_per_layer[l])\n",
    "        \n",
    "    return parameters"
   ]
  },
  {
   "cell_type": "code",
   "execution_count": 4,
   "id": "dfcdc0a4",
   "metadata": {},
   "outputs": [
    {
     "data": {
      "text/plain": [
       "{'W1': array([[ 0.22213732, -0.06183368,  0.28965512,  0.68111966, -0.10471657,\n",
       "         -0.10470923,  0.70624544,  0.34320724, -0.20995533,  0.24264023],\n",
       "        [-0.20724669, -0.20828068,  0.10820882, -0.85564494, -0.77140671,\n",
       "         -0.25146263, -0.45295185,  0.14053568, -0.40608071, -0.63160142],\n",
       "        [ 0.65545806, -0.10097023,  0.03019953, -0.63716676, -0.24345536,\n",
       "          0.04960609, -0.51473998,  0.16801726, -0.26861379, -0.13044941],\n",
       "        [-0.26909138,  0.82836399, -0.00603614, -0.47302271,  0.36785327,\n",
       "         -0.54597788,  0.09340664, -0.87639112, -0.59398286,  0.08803902],\n",
       "        [ 0.33025229,  0.07663823, -0.05171948, -0.13465767, -0.66121514,\n",
       "         -0.32192412, -0.20600392,  0.47275943,  0.15367077, -0.78845553]]),\n",
       " 'b1': array([ 0.14493476, -0.17221403, -0.30272872,  0.27354995,  0.461077  ]),\n",
       " 'W2': array([[ 0.41648113, -0.37530949, -0.13828398,  0.14814551,  0.43627704],\n",
       "        [-0.21429323, -0.08302922, -0.49476804, -0.53495987,  0.36337259],\n",
       "        [ 0.60652898, -0.03220391,  0.44879356,  0.16172855, -0.28850632],\n",
       "        [ 0.16162103,  0.68783086, -0.01602189,  0.69972991, -1.17158563],\n",
       "        [ 0.36756597,  0.03892863, -0.13372015,  0.04103667, -0.88886784]]),\n",
       " 'b2': array([-0.09824025,  0.1597056 ,  0.66093431, -0.23177749, -0.36156933]),\n",
       " 'W3': array([[-0.28968956,  0.52850766,  0.18980454, -0.3058572 ,  0.29633509],\n",
       "        [ 0.05604775,  0.55924745, -0.40533054, -0.18917583, -0.22638375],\n",
       "        [-0.84496075,  0.17096512,  0.15072033,  0.00295226, -0.13543894]]),\n",
       " 'b3': array([-0.81716468, -0.24285969, -0.19786632])}"
      ]
     },
     "execution_count": 4,
     "metadata": {},
     "output_type": "execute_result"
    }
   ],
   "source": [
    "neurons_per_layer = [10, 5, 5, 3]            # 입력 10, 1층 5, 2층 5, 3층 3\n",
    "initialize_parameters(neurons_per_layer)"
   ]
  },
  {
   "cell_type": "code",
   "execution_count": null,
   "id": "71494e9a",
   "metadata": {},
   "outputs": [],
   "source": []
  }
 ],
 "metadata": {
  "kernelspec": {
   "display_name": "Python 3",
   "language": "python",
   "name": "python3"
  },
  "language_info": {
   "codemirror_mode": {
    "name": "ipython",
    "version": 3
   },
   "file_extension": ".py",
   "mimetype": "text/x-python",
   "name": "python",
   "nbconvert_exporter": "python",
   "pygments_lexer": "ipython3",
   "version": "3.8.8"
  }
 },
 "nbformat": 4,
 "nbformat_minor": 5
}
