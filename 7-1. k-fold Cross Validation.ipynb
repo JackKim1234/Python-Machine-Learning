{
 "cells": [
  {
   "cell_type": "code",
   "execution_count": 1,
   "id": "886fa943",
   "metadata": {},
   "outputs": [],
   "source": [
    "from sklearn import datasets\n",
    "from sklearn.model_selection import cross_val_score       # k-fold Cross Validation 불러오기\n",
    "from sklearn.linear_model import LogisticRegression\n",
    "\n",
    "import numpy as np\n",
    "import pandas as pd\n",
    "\n",
    "import warnings\n",
    "warnings.simplefilter(action='ignore', category=FutureWarning)     # 경고 무시하기"
   ]
  },
  {
   "cell_type": "code",
   "execution_count": 2,
   "id": "6212e1ad",
   "metadata": {},
   "outputs": [],
   "source": [
    "iris_data = datasets.load_iris()"
   ]
  },
  {
   "cell_type": "code",
   "execution_count": 3,
   "id": "68da3489",
   "metadata": {},
   "outputs": [],
   "source": [
    "X = pd.DataFrame(iris_data.data, columns = iris_data.feature_names)"
   ]
  },
  {
   "cell_type": "code",
   "execution_count": 4,
   "id": "3247552e",
   "metadata": {},
   "outputs": [],
   "source": [
    "y = pd.DataFrame(iris_data.target, columns = ['Class'])"
   ]
  },
  {
   "cell_type": "code",
   "execution_count": 5,
   "id": "9546b8d1",
   "metadata": {},
   "outputs": [],
   "source": [
    "logistic_model = LogisticRegression(max_iter=2000)"
   ]
  },
  {
   "cell_type": "code",
   "execution_count": 6,
   "id": "29b015aa",
   "metadata": {},
   "outputs": [
    {
     "data": {
      "text/plain": [
       "array([0.96666667, 1.        , 0.93333333, 0.96666667, 1.        ])"
      ]
     },
     "execution_count": 6,
     "metadata": {},
     "output_type": "execute_result"
    }
   ],
   "source": [
    "cross_val_score(logistic_model, X, y.values.ravel(), cv=5)    # y값들에서 생기는 경고 무시, cv는 k 값이다"
   ]
  },
  {
   "cell_type": "code",
   "execution_count": 7,
   "id": "6b7a2168",
   "metadata": {},
   "outputs": [
    {
     "data": {
      "text/plain": [
       "0.9733333333333334"
      ]
     },
     "execution_count": 7,
     "metadata": {},
     "output_type": "execute_result"
    }
   ],
   "source": [
    "np.average(cross_val_score(logistic_model, X, y.values.ravel(), cv=5))     # 위 성능들의 평균을 구한다 (97.3%로 나름 우수하다)"
   ]
  },
  {
   "cell_type": "code",
   "execution_count": null,
   "id": "249dfa5b",
   "metadata": {},
   "outputs": [],
   "source": []
  }
 ],
 "metadata": {
  "kernelspec": {
   "display_name": "Python 3",
   "language": "python",
   "name": "python3"
  },
  "language_info": {
   "codemirror_mode": {
    "name": "ipython",
    "version": 3
   },
   "file_extension": ".py",
   "mimetype": "text/x-python",
   "name": "python",
   "nbconvert_exporter": "python",
   "pygments_lexer": "ipython3",
   "version": "3.8.8"
  }
 },
 "nbformat": 4,
 "nbformat_minor": 5
}
