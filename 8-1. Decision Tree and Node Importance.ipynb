{
 "cells": [
  {
   "cell_type": "code",
   "execution_count": 1,
   "id": "16d01a25",
   "metadata": {},
   "outputs": [],
   "source": [
    "from sklearn.datasets import load_iris\n",
    "from sklearn.model_selection import train_test_split\n",
    "from sklearn.tree import DecisionTreeClassifier\n",
    "\n",
    "import matplotlib.pyplot as plt       # 가시적으로 데이터를 가공함\n",
    "import numpy as np\n",
    "import pandas as pd"
   ]
  },
  {
   "cell_type": "code",
   "execution_count": 2,
   "id": "c592075a",
   "metadata": {},
   "outputs": [],
   "source": [
    "iris_data = load_iris()"
   ]
  },
  {
   "cell_type": "code",
   "execution_count": 3,
   "id": "5e4baed1",
   "metadata": {},
   "outputs": [],
   "source": [
    "X = pd.DataFrame(iris_data.data, columns=iris_data.feature_names)         # 데이터 형태를 전부 data로 바꾸려고 .data를 붙임"
   ]
  },
  {
   "cell_type": "code",
   "execution_count": 4,
   "id": "ee037e74",
   "metadata": {},
   "outputs": [],
   "source": [
    "y = pd.DataFrame(iris_data.target, columns = ['class'])"
   ]
  },
  {
   "cell_type": "code",
   "execution_count": 5,
   "id": "7aa7461b",
   "metadata": {},
   "outputs": [],
   "source": [
    "X_train, X_test, y_train, y_test = train_test_split(X, y, test_size = 0.2, random_state=5)"
   ]
  },
  {
   "cell_type": "code",
   "execution_count": 6,
   "id": "1e35acbc",
   "metadata": {},
   "outputs": [],
   "source": [
    "model = DecisionTreeClassifier(max_depth=4)                 # 옵션으로 Tree 깊이를 최대 4로 지정 (Run은 한번만!!!)"
   ]
  },
  {
   "cell_type": "code",
   "execution_count": 7,
   "id": "a3dd7963",
   "metadata": {},
   "outputs": [
    {
     "data": {
      "text/plain": [
       "DecisionTreeClassifier(max_depth=4)"
      ]
     },
     "execution_count": 7,
     "metadata": {},
     "output_type": "execute_result"
    }
   ],
   "source": [
    "model.fit(X_train,y_train)"
   ]
  },
  {
   "cell_type": "code",
   "execution_count": 8,
   "id": "2d600b6f",
   "metadata": {},
   "outputs": [
    {
     "data": {
      "text/plain": [
       "array([1, 2, 2, 0, 2, 2, 0, 2, 0, 1, 1, 1, 2, 2, 0, 0, 2, 2, 0, 0, 1, 2,\n",
       "       0, 1, 1, 2, 1, 1, 1, 2])"
      ]
     },
     "execution_count": 8,
     "metadata": {},
     "output_type": "execute_result"
    }
   ],
   "source": [
    "model.predict(X_test)"
   ]
  },
  {
   "cell_type": "code",
   "execution_count": 9,
   "id": "e0e785b2",
   "metadata": {},
   "outputs": [
    {
     "data": {
      "text/plain": [
       "0.9"
      ]
     },
     "execution_count": 9,
     "metadata": {},
     "output_type": "execute_result"
    }
   ],
   "source": [
    "model.score(X_test,y_test)                 # X_test를 모델에 넣은 값과 y_test(실제값)과 90% 일치"
   ]
  },
  {
   "cell_type": "code",
   "execution_count": 10,
   "id": "8de74bdd",
   "metadata": {},
   "outputs": [],
   "source": [
    "importances = model.feature_importances_              # NI로 중요도 %로 바꿔 구하기"
   ]
  },
  {
   "cell_type": "code",
   "execution_count": 11,
   "id": "198b9e61",
   "metadata": {},
   "outputs": [
    {
     "data": {
      "image/png": "[encoded data removed]",
      "text/plain": [
       "<Figure size 432x288 with 1 Axes>"
      ]
     },
     "metadata": {
      "needs_background": "light"
     },
     "output_type": "display_data"
    }
   ],
   "source": [
    "indices_sorted = np.argsort(importances)                  # 얘는 그냥 질문에 따른 NI를 그림으로 보여주는 코드\n",
    "\n",
    "plt.figure()\n",
    "plt.title(\"Feature Importances\")\n",
    "plt.bar(range(len(importances)),importances[indices_sorted])\n",
    "plt.xticks(range(len(importances)),X.columns[indices_sorted], rotation=90)\n",
    "plt.show()                                                                           # petal width가 제일 중요한 것!"
   ]
  },
  {
   "cell_type": "code",
   "execution_count": null,
   "id": "340390f3",
   "metadata": {},
   "outputs": [],
   "source": []
  }
 ],
 "metadata": {
  "kernelspec": {
   "display_name": "Python 3",
   "language": "python",
   "name": "python3"
  },
  "language_info": {
   "codemirror_mode": {
    "name": "ipython",
    "version": 3
   },
   "file_extension": ".py",
   "mimetype": "text/x-python",
   "name": "python",
   "nbconvert_exporter": "python",
   "pygments_lexer": "ipython3",
   "version": "3.8.8"
  }
 },
 "nbformat": 4,
 "nbformat_minor": 5
}
