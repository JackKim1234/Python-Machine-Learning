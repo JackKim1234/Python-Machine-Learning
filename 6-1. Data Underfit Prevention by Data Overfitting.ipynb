{
 "cells": [
  {
   "cell_type": "code",
   "execution_count": 1,
   "id": "0419df8e",
   "metadata": {},
   "outputs": [],
   "source": [
    "from sklearn.linear_model import LinearRegression\n",
    "from sklearn.model_selection import train_test_split\n",
    "from sklearn.metrics import mean_squared_error\n",
    "from sklearn.preprocessing import PolynomialFeatures\n",
    "\n",
    "from math import sqrt\n",
    "\n",
    "import numpy as np\n",
    "import pandas as pd"
   ]
  },
  {
   "cell_type": "code",
   "execution_count": 2,
   "id": "7a3343e5",
   "metadata": {},
   "outputs": [],
   "source": [
    "ADMISSION_FILE_PATH = 'C:/Users/USER/Desktop/김주호/코딩/Python/2. Machine Learning/admission_data.csv'"
   ]
  },
  {
   "cell_type": "code",
   "execution_count": 3,
   "id": "816e6c6f",
   "metadata": {},
   "outputs": [],
   "source": [
    "admission_df = pd.read_csv(ADMISSION_FILE_PATH).drop('Serial No.', axis = 1)   #Serial No.는 사용하지 않고 행과 열 방향 결정"
   ]
  },
  {
   "cell_type": "code",
   "execution_count": 4,
   "id": "e746fac5",
   "metadata": {},
   "outputs": [
    {
     "data": {
      "text/html": [
       "<div>\n",
       "<style scoped>\n",
       "    .dataframe tbody tr th:only-of-type {\n",
       "        vertical-align: middle;\n",
       "    }\n",
       "\n",
       "    .dataframe tbody tr th {\n",
       "        vertical-align: top;\n",
       "    }\n",
       "\n",
       "    .dataframe thead th {\n",
       "        text-align: right;\n",
       "    }\n",
       "</style>\n",
       "<table border=\"1\" class=\"dataframe\">\n",
       "  <thead>\n",
       "    <tr style=\"text-align: right;\">\n",
       "      <th></th>\n",
       "      <th>GRE Score</th>\n",
       "      <th>TOEFL Score</th>\n",
       "      <th>University Rating</th>\n",
       "      <th>SOP</th>\n",
       "      <th>LOR</th>\n",
       "      <th>CGPA</th>\n",
       "      <th>Research</th>\n",
       "      <th>Chance of Admit</th>\n",
       "    </tr>\n",
       "  </thead>\n",
       "  <tbody>\n",
       "    <tr>\n",
       "      <th>0</th>\n",
       "      <td>337</td>\n",
       "      <td>118</td>\n",
       "      <td>4</td>\n",
       "      <td>4.5</td>\n",
       "      <td>4.5</td>\n",
       "      <td>9.65</td>\n",
       "      <td>1</td>\n",
       "      <td>0.92</td>\n",
       "    </tr>\n",
       "    <tr>\n",
       "      <th>1</th>\n",
       "      <td>324</td>\n",
       "      <td>107</td>\n",
       "      <td>4</td>\n",
       "      <td>4.0</td>\n",
       "      <td>4.5</td>\n",
       "      <td>8.87</td>\n",
       "      <td>1</td>\n",
       "      <td>0.76</td>\n",
       "    </tr>\n",
       "    <tr>\n",
       "      <th>2</th>\n",
       "      <td>316</td>\n",
       "      <td>104</td>\n",
       "      <td>3</td>\n",
       "      <td>3.0</td>\n",
       "      <td>3.5</td>\n",
       "      <td>8.00</td>\n",
       "      <td>1</td>\n",
       "      <td>0.72</td>\n",
       "    </tr>\n",
       "    <tr>\n",
       "      <th>3</th>\n",
       "      <td>322</td>\n",
       "      <td>110</td>\n",
       "      <td>3</td>\n",
       "      <td>3.5</td>\n",
       "      <td>2.5</td>\n",
       "      <td>8.67</td>\n",
       "      <td>1</td>\n",
       "      <td>0.80</td>\n",
       "    </tr>\n",
       "    <tr>\n",
       "      <th>4</th>\n",
       "      <td>314</td>\n",
       "      <td>103</td>\n",
       "      <td>2</td>\n",
       "      <td>2.0</td>\n",
       "      <td>3.0</td>\n",
       "      <td>8.21</td>\n",
       "      <td>0</td>\n",
       "      <td>0.65</td>\n",
       "    </tr>\n",
       "  </tbody>\n",
       "</table>\n",
       "</div>"
      ],
      "text/plain": [
       "   GRE Score  TOEFL Score  University Rating  SOP  LOR   CGPA  Research  \\\n",
       "0        337          118                  4  4.5   4.5  9.65         1   \n",
       "1        324          107                  4  4.0   4.5  8.87         1   \n",
       "2        316          104                  3  3.0   3.5  8.00         1   \n",
       "3        322          110                  3  3.5   2.5  8.67         1   \n",
       "4        314          103                  2  2.0   3.0  8.21         0   \n",
       "\n",
       "   Chance of Admit   \n",
       "0              0.92  \n",
       "1              0.76  \n",
       "2              0.72  \n",
       "3              0.80  \n",
       "4              0.65  "
      ]
     },
     "execution_count": 4,
     "metadata": {},
     "output_type": "execute_result"
    }
   ],
   "source": [
    "admission_df.head()     # 마지막 Chance of Admit이 우리가 궁금한거다"
   ]
  },
  {
   "cell_type": "code",
   "execution_count": 5,
   "id": "dd8acc7b",
   "metadata": {},
   "outputs": [],
   "source": [
    "X = admission_df.drop(['Chance of Admit '], axis = 1)      # 입력 지정"
   ]
  },
  {
   "cell_type": "code",
   "execution_count": 6,
   "id": "8d6e4f1c",
   "metadata": {},
   "outputs": [],
   "source": [
    "polynomial_transformer = PolynomialFeatures(6)     # 6차 방정식으로 Bias를 줄인다"
   ]
  },
  {
   "cell_type": "code",
   "execution_count": 7,
   "id": "8ebec96a",
   "metadata": {},
   "outputs": [],
   "source": [
    "polynomial_features = polynomial_transformer.fit_transform(X.values)    # X의 데이터들을 0제곱 1제곱 ... 6제곱 한다"
   ]
  },
  {
   "cell_type": "code",
   "execution_count": 8,
   "id": "4fae1b11",
   "metadata": {},
   "outputs": [],
   "source": [
    "features = polynomial_transformer.get_feature_names(X.columns)   # 입력 지정된 데이터프레임의 feature 이름들을 가져온다"
   ]
  },
  {
   "cell_type": "code",
   "execution_count": 9,
   "id": "e685c86c",
   "metadata": {},
   "outputs": [],
   "source": [
    "X = pd.DataFrame(polynomial_features, columns = features)    #X의 데이터들을 k제곱한 데이터들을 데이터프레임으로 만들기"
   ]
  },
  {
   "cell_type": "code",
   "execution_count": 10,
   "id": "deafbc99",
   "metadata": {},
   "outputs": [],
   "source": [
    "y = admission_df[['Chance of Admit ']]      # 출력 지정"
   ]
  },
  {
   "cell_type": "code",
   "execution_count": 11,
   "id": "54e91d54",
   "metadata": {},
   "outputs": [],
   "source": [
    "X_train, X_test, y_train, y_test = train_test_split(X, y, test_size = 0.3, random_state = 5)    #train과 test로 데이터 쪼개기"
   ]
  },
  {
   "cell_type": "code",
   "execution_count": 12,
   "id": "fbdc144b",
   "metadata": {},
   "outputs": [],
   "source": [
    "model = LinearRegression()"
   ]
  },
  {
   "cell_type": "code",
   "execution_count": 13,
   "id": "54fbfacd",
   "metadata": {},
   "outputs": [
    {
     "data": {
      "text/plain": [
       "LinearRegression()"
      ]
     },
     "execution_count": 13,
     "metadata": {},
     "output_type": "execute_result"
    }
   ],
   "source": [
    "model.fit(X_train, y_train)            # 다항 회귀"
   ]
  },
  {
   "cell_type": "code",
   "execution_count": 14,
   "id": "a6a10849",
   "metadata": {},
   "outputs": [],
   "source": [
    "y_train_predict = model.predict(X_train)       "
   ]
  },
  {
   "cell_type": "code",
   "execution_count": 15,
   "id": "2ce7ebff",
   "metadata": {},
   "outputs": [],
   "source": [
    "y_test_predict = model.predict(X_test)"
   ]
  },
  {
   "cell_type": "code",
   "execution_count": 16,
   "id": "bdfebbf6",
   "metadata": {},
   "outputs": [
    {
     "name": "stdout",
     "output_type": "stream",
     "text": [
      "train에서의 성능\n",
      "0.0015047953396610122\n",
      "---------------------\n",
      "test에서의 성능\n",
      "5.090715917357951\n"
     ]
    }
   ],
   "source": [
    "mse = mean_squared_error(y_train, y_train_predict)\n",
    "print(\"train에서의 성능\")\n",
    "print(sqrt(mse))\n",
    "print(\"---------------------\")\n",
    "mse = mean_squared_error(y_test, y_test_predict)\n",
    "print(\"test에서의 성능\")\n",
    "print(sqrt(mse))                                            # 과적합 되었다 ㅠㅠ"
   ]
  },
  {
   "cell_type": "code",
   "execution_count": null,
   "id": "319884c0",
   "metadata": {},
   "outputs": [],
   "source": []
  }
 ],
 "metadata": {
  "kernelspec": {
   "display_name": "Python 3",
   "language": "python",
   "name": "python3"
  },
  "language_info": {
   "codemirror_mode": {
    "name": "ipython",
    "version": 3
   },
   "file_extension": ".py",
   "mimetype": "text/x-python",
   "name": "python",
   "nbconvert_exporter": "python",
   "pygments_lexer": "ipython3",
   "version": "3.8.8"
  }
 },
 "nbformat": 4,
 "nbformat_minor": 5
}
