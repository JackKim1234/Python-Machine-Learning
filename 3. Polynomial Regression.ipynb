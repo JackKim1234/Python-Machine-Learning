{
 "cells": [
  {
   "cell_type": "code",
   "execution_count": 1,
   "id": "ab82296e",
   "metadata": {},
   "outputs": [],
   "source": [
    "from sklearn.datasets import load_boston\n",
    "from sklearn.preprocessing import PolynomialFeatures\n",
    "from sklearn.model_selection import train_test_split\n",
    "from sklearn.linear_model import LinearRegression\n",
    "from sklearn.metrics import mean_squared_error\n",
    "\n",
    "import pandas as pd"
   ]
  },
  {
   "cell_type": "code",
   "execution_count": 2,
   "id": "1be22554",
   "metadata": {},
   "outputs": [],
   "source": [
    "boston_dataset = load_boston()"
   ]
  },
  {
   "cell_type": "code",
   "execution_count": 3,
   "id": "d28255c9",
   "metadata": {},
   "outputs": [
    {
     "data": {
      "text/plain": [
       "array([[6.3200e-03, 1.8000e+01, 2.3100e+00, ..., 1.5300e+01, 3.9690e+02,\n",
       "        4.9800e+00],\n",
       "       [2.7310e-02, 0.0000e+00, 7.0700e+00, ..., 1.7800e+01, 3.9690e+02,\n",
       "        9.1400e+00],\n",
       "       [2.7290e-02, 0.0000e+00, 7.0700e+00, ..., 1.7800e+01, 3.9283e+02,\n",
       "        4.0300e+00],\n",
       "       ...,\n",
       "       [6.0760e-02, 0.0000e+00, 1.1930e+01, ..., 2.1000e+01, 3.9690e+02,\n",
       "        5.6400e+00],\n",
       "       [1.0959e-01, 0.0000e+00, 1.1930e+01, ..., 2.1000e+01, 3.9345e+02,\n",
       "        6.4800e+00],\n",
       "       [4.7410e-02, 0.0000e+00, 1.1930e+01, ..., 2.1000e+01, 3.9690e+02,\n",
       "        7.8800e+00]])"
      ]
     },
     "execution_count": 3,
     "metadata": {},
     "output_type": "execute_result"
    }
   ],
   "source": [
    "boston_dataset.data"
   ]
  },
  {
   "cell_type": "code",
   "execution_count": 4,
   "id": "b51afbb2",
   "metadata": {},
   "outputs": [
    {
     "data": {
      "text/plain": [
       "(506, 13)"
      ]
     },
     "execution_count": 4,
     "metadata": {},
     "output_type": "execute_result"
    }
   ],
   "source": [
    "boston_dataset.data.shape"
   ]
  },
  {
   "cell_type": "code",
   "execution_count": 5,
   "id": "77d0db50",
   "metadata": {},
   "outputs": [
    {
     "data": {
      "text/plain": [
       "array(['CRIM', 'ZN', 'INDUS', 'CHAS', 'NOX', 'RM', 'AGE', 'DIS', 'RAD',\n",
       "       'TAX', 'PTRATIO', 'B', 'LSTAT'], dtype='<U7')"
      ]
     },
     "execution_count": 5,
     "metadata": {},
     "output_type": "execute_result"
    }
   ],
   "source": [
    "boston_dataset.feature_names"
   ]
  },
  {
   "cell_type": "code",
   "execution_count": 6,
   "id": "ef1c835a",
   "metadata": {},
   "outputs": [],
   "source": [
    "polynomial_transformer = PolynomialFeatures(2)"
   ]
  },
  {
   "cell_type": "code",
   "execution_count": 7,
   "id": "0a928375",
   "metadata": {},
   "outputs": [],
   "source": [
    "polynomial_data = polynomial_transformer.fit_transform(boston_dataset.data)"
   ]
  },
  {
   "cell_type": "code",
   "execution_count": 8,
   "id": "24c8543f",
   "metadata": {},
   "outputs": [
    {
     "data": {
      "text/plain": [
       "array([[1.00000000e+00, 6.32000000e-03, 1.80000000e+01, ...,\n",
       "        1.57529610e+05, 1.97656200e+03, 2.48004000e+01],\n",
       "       [1.00000000e+00, 2.73100000e-02, 0.00000000e+00, ...,\n",
       "        1.57529610e+05, 3.62766600e+03, 8.35396000e+01],\n",
       "       [1.00000000e+00, 2.72900000e-02, 0.00000000e+00, ...,\n",
       "        1.54315409e+05, 1.58310490e+03, 1.62409000e+01],\n",
       "       ...,\n",
       "       [1.00000000e+00, 6.07600000e-02, 0.00000000e+00, ...,\n",
       "        1.57529610e+05, 2.23851600e+03, 3.18096000e+01],\n",
       "       [1.00000000e+00, 1.09590000e-01, 0.00000000e+00, ...,\n",
       "        1.54802902e+05, 2.54955600e+03, 4.19904000e+01],\n",
       "       [1.00000000e+00, 4.74100000e-02, 0.00000000e+00, ...,\n",
       "        1.57529610e+05, 3.12757200e+03, 6.20944000e+01]])"
      ]
     },
     "execution_count": 8,
     "metadata": {},
     "output_type": "execute_result"
    }
   ],
   "source": [
    "polynomial_data"
   ]
  },
  {
   "cell_type": "code",
   "execution_count": 9,
   "id": "5fc8a355",
   "metadata": {},
   "outputs": [
    {
     "data": {
      "text/plain": [
       "(506, 105)"
      ]
     },
     "execution_count": 9,
     "metadata": {},
     "output_type": "execute_result"
    }
   ],
   "source": [
    "polynomial_data.shape"
   ]
  },
  {
   "cell_type": "code",
   "execution_count": 10,
   "id": "2852ea4f",
   "metadata": {},
   "outputs": [],
   "source": [
    "polynomial_feature_names = polynomial_transformer.get_feature_names(boston_dataset.feature_names)"
   ]
  },
  {
   "cell_type": "code",
   "execution_count": 11,
   "id": "7b744e1c",
   "metadata": {},
   "outputs": [
    {
     "data": {
      "text/plain": [
       "['1',\n",
       " 'CRIM',\n",
       " 'ZN',\n",
       " 'INDUS',\n",
       " 'CHAS',\n",
       " 'NOX',\n",
       " 'RM',\n",
       " 'AGE',\n",
       " 'DIS',\n",
       " 'RAD',\n",
       " 'TAX',\n",
       " 'PTRATIO',\n",
       " 'B',\n",
       " 'LSTAT',\n",
       " 'CRIM^2',\n",
       " 'CRIM ZN',\n",
       " 'CRIM INDUS',\n",
       " 'CRIM CHAS',\n",
       " 'CRIM NOX',\n",
       " 'CRIM RM',\n",
       " 'CRIM AGE',\n",
       " 'CRIM DIS',\n",
       " 'CRIM RAD',\n",
       " 'CRIM TAX',\n",
       " 'CRIM PTRATIO',\n",
       " 'CRIM B',\n",
       " 'CRIM LSTAT',\n",
       " 'ZN^2',\n",
       " 'ZN INDUS',\n",
       " 'ZN CHAS',\n",
       " 'ZN NOX',\n",
       " 'ZN RM',\n",
       " 'ZN AGE',\n",
       " 'ZN DIS',\n",
       " 'ZN RAD',\n",
       " 'ZN TAX',\n",
       " 'ZN PTRATIO',\n",
       " 'ZN B',\n",
       " 'ZN LSTAT',\n",
       " 'INDUS^2',\n",
       " 'INDUS CHAS',\n",
       " 'INDUS NOX',\n",
       " 'INDUS RM',\n",
       " 'INDUS AGE',\n",
       " 'INDUS DIS',\n",
       " 'INDUS RAD',\n",
       " 'INDUS TAX',\n",
       " 'INDUS PTRATIO',\n",
       " 'INDUS B',\n",
       " 'INDUS LSTAT',\n",
       " 'CHAS^2',\n",
       " 'CHAS NOX',\n",
       " 'CHAS RM',\n",
       " 'CHAS AGE',\n",
       " 'CHAS DIS',\n",
       " 'CHAS RAD',\n",
       " 'CHAS TAX',\n",
       " 'CHAS PTRATIO',\n",
       " 'CHAS B',\n",
       " 'CHAS LSTAT',\n",
       " 'NOX^2',\n",
       " 'NOX RM',\n",
       " 'NOX AGE',\n",
       " 'NOX DIS',\n",
       " 'NOX RAD',\n",
       " 'NOX TAX',\n",
       " 'NOX PTRATIO',\n",
       " 'NOX B',\n",
       " 'NOX LSTAT',\n",
       " 'RM^2',\n",
       " 'RM AGE',\n",
       " 'RM DIS',\n",
       " 'RM RAD',\n",
       " 'RM TAX',\n",
       " 'RM PTRATIO',\n",
       " 'RM B',\n",
       " 'RM LSTAT',\n",
       " 'AGE^2',\n",
       " 'AGE DIS',\n",
       " 'AGE RAD',\n",
       " 'AGE TAX',\n",
       " 'AGE PTRATIO',\n",
       " 'AGE B',\n",
       " 'AGE LSTAT',\n",
       " 'DIS^2',\n",
       " 'DIS RAD',\n",
       " 'DIS TAX',\n",
       " 'DIS PTRATIO',\n",
       " 'DIS B',\n",
       " 'DIS LSTAT',\n",
       " 'RAD^2',\n",
       " 'RAD TAX',\n",
       " 'RAD PTRATIO',\n",
       " 'RAD B',\n",
       " 'RAD LSTAT',\n",
       " 'TAX^2',\n",
       " 'TAX PTRATIO',\n",
       " 'TAX B',\n",
       " 'TAX LSTAT',\n",
       " 'PTRATIO^2',\n",
       " 'PTRATIO B',\n",
       " 'PTRATIO LSTAT',\n",
       " 'B^2',\n",
       " 'B LSTAT',\n",
       " 'LSTAT^2']"
      ]
     },
     "execution_count": 11,
     "metadata": {},
     "output_type": "execute_result"
    }
   ],
   "source": [
    "polynomial_feature_names"
   ]
  },
  {
   "cell_type": "code",
   "execution_count": 12,
   "id": "1b1409ae",
   "metadata": {},
   "outputs": [],
   "source": [
    "X = pd.DataFrame(polynomial_data, columns = polynomial_feature_names)"
   ]
  },
  {
   "cell_type": "code",
   "execution_count": 13,
   "id": "e6fa8fc4",
   "metadata": {},
   "outputs": [
    {
     "data": {
      "text/html": [
       "<div>\n",
       "<style scoped>\n",
       "    .dataframe tbody tr th:only-of-type {\n",
       "        vertical-align: middle;\n",
       "    }\n",
       "\n",
       "    .dataframe tbody tr th {\n",
       "        vertical-align: top;\n",
       "    }\n",
       "\n",
       "    .dataframe thead th {\n",
       "        text-align: right;\n",
       "    }\n",
       "</style>\n",
       "<table border=\"1\" class=\"dataframe\">\n",
       "  <thead>\n",
       "    <tr style=\"text-align: right;\">\n",
       "      <th></th>\n",
       "      <th>1</th>\n",
       "      <th>CRIM</th>\n",
       "      <th>ZN</th>\n",
       "      <th>INDUS</th>\n",
       "      <th>CHAS</th>\n",
       "      <th>NOX</th>\n",
       "      <th>RM</th>\n",
       "      <th>AGE</th>\n",
       "      <th>DIS</th>\n",
       "      <th>RAD</th>\n",
       "      <th>...</th>\n",
       "      <th>TAX^2</th>\n",
       "      <th>TAX PTRATIO</th>\n",
       "      <th>TAX B</th>\n",
       "      <th>TAX LSTAT</th>\n",
       "      <th>PTRATIO^2</th>\n",
       "      <th>PTRATIO B</th>\n",
       "      <th>PTRATIO LSTAT</th>\n",
       "      <th>B^2</th>\n",
       "      <th>B LSTAT</th>\n",
       "      <th>LSTAT^2</th>\n",
       "    </tr>\n",
       "  </thead>\n",
       "  <tbody>\n",
       "    <tr>\n",
       "      <th>0</th>\n",
       "      <td>1.0</td>\n",
       "      <td>0.00632</td>\n",
       "      <td>18.0</td>\n",
       "      <td>2.31</td>\n",
       "      <td>0.0</td>\n",
       "      <td>0.538</td>\n",
       "      <td>6.575</td>\n",
       "      <td>65.2</td>\n",
       "      <td>4.0900</td>\n",
       "      <td>1.0</td>\n",
       "      <td>...</td>\n",
       "      <td>87616.0</td>\n",
       "      <td>4528.8</td>\n",
       "      <td>117482.40</td>\n",
       "      <td>1474.08</td>\n",
       "      <td>234.09</td>\n",
       "      <td>6072.570</td>\n",
       "      <td>76.194</td>\n",
       "      <td>157529.6100</td>\n",
       "      <td>1976.5620</td>\n",
       "      <td>24.8004</td>\n",
       "    </tr>\n",
       "    <tr>\n",
       "      <th>1</th>\n",
       "      <td>1.0</td>\n",
       "      <td>0.02731</td>\n",
       "      <td>0.0</td>\n",
       "      <td>7.07</td>\n",
       "      <td>0.0</td>\n",
       "      <td>0.469</td>\n",
       "      <td>6.421</td>\n",
       "      <td>78.9</td>\n",
       "      <td>4.9671</td>\n",
       "      <td>2.0</td>\n",
       "      <td>...</td>\n",
       "      <td>58564.0</td>\n",
       "      <td>4307.6</td>\n",
       "      <td>96049.80</td>\n",
       "      <td>2211.88</td>\n",
       "      <td>316.84</td>\n",
       "      <td>7064.820</td>\n",
       "      <td>162.692</td>\n",
       "      <td>157529.6100</td>\n",
       "      <td>3627.6660</td>\n",
       "      <td>83.5396</td>\n",
       "    </tr>\n",
       "    <tr>\n",
       "      <th>2</th>\n",
       "      <td>1.0</td>\n",
       "      <td>0.02729</td>\n",
       "      <td>0.0</td>\n",
       "      <td>7.07</td>\n",
       "      <td>0.0</td>\n",
       "      <td>0.469</td>\n",
       "      <td>7.185</td>\n",
       "      <td>61.1</td>\n",
       "      <td>4.9671</td>\n",
       "      <td>2.0</td>\n",
       "      <td>...</td>\n",
       "      <td>58564.0</td>\n",
       "      <td>4307.6</td>\n",
       "      <td>95064.86</td>\n",
       "      <td>975.26</td>\n",
       "      <td>316.84</td>\n",
       "      <td>6992.374</td>\n",
       "      <td>71.734</td>\n",
       "      <td>154315.4089</td>\n",
       "      <td>1583.1049</td>\n",
       "      <td>16.2409</td>\n",
       "    </tr>\n",
       "    <tr>\n",
       "      <th>3</th>\n",
       "      <td>1.0</td>\n",
       "      <td>0.03237</td>\n",
       "      <td>0.0</td>\n",
       "      <td>2.18</td>\n",
       "      <td>0.0</td>\n",
       "      <td>0.458</td>\n",
       "      <td>6.998</td>\n",
       "      <td>45.8</td>\n",
       "      <td>6.0622</td>\n",
       "      <td>3.0</td>\n",
       "      <td>...</td>\n",
       "      <td>49284.0</td>\n",
       "      <td>4151.4</td>\n",
       "      <td>87607.86</td>\n",
       "      <td>652.68</td>\n",
       "      <td>349.69</td>\n",
       "      <td>7379.581</td>\n",
       "      <td>54.978</td>\n",
       "      <td>155732.8369</td>\n",
       "      <td>1160.2122</td>\n",
       "      <td>8.6436</td>\n",
       "    </tr>\n",
       "    <tr>\n",
       "      <th>4</th>\n",
       "      <td>1.0</td>\n",
       "      <td>0.06905</td>\n",
       "      <td>0.0</td>\n",
       "      <td>2.18</td>\n",
       "      <td>0.0</td>\n",
       "      <td>0.458</td>\n",
       "      <td>7.147</td>\n",
       "      <td>54.2</td>\n",
       "      <td>6.0622</td>\n",
       "      <td>3.0</td>\n",
       "      <td>...</td>\n",
       "      <td>49284.0</td>\n",
       "      <td>4151.4</td>\n",
       "      <td>88111.80</td>\n",
       "      <td>1183.26</td>\n",
       "      <td>349.69</td>\n",
       "      <td>7422.030</td>\n",
       "      <td>99.671</td>\n",
       "      <td>157529.6100</td>\n",
       "      <td>2115.4770</td>\n",
       "      <td>28.4089</td>\n",
       "    </tr>\n",
       "    <tr>\n",
       "      <th>...</th>\n",
       "      <td>...</td>\n",
       "      <td>...</td>\n",
       "      <td>...</td>\n",
       "      <td>...</td>\n",
       "      <td>...</td>\n",
       "      <td>...</td>\n",
       "      <td>...</td>\n",
       "      <td>...</td>\n",
       "      <td>...</td>\n",
       "      <td>...</td>\n",
       "      <td>...</td>\n",
       "      <td>...</td>\n",
       "      <td>...</td>\n",
       "      <td>...</td>\n",
       "      <td>...</td>\n",
       "      <td>...</td>\n",
       "      <td>...</td>\n",
       "      <td>...</td>\n",
       "      <td>...</td>\n",
       "      <td>...</td>\n",
       "      <td>...</td>\n",
       "    </tr>\n",
       "    <tr>\n",
       "      <th>501</th>\n",
       "      <td>1.0</td>\n",
       "      <td>0.06263</td>\n",
       "      <td>0.0</td>\n",
       "      <td>11.93</td>\n",
       "      <td>0.0</td>\n",
       "      <td>0.573</td>\n",
       "      <td>6.593</td>\n",
       "      <td>69.1</td>\n",
       "      <td>2.4786</td>\n",
       "      <td>1.0</td>\n",
       "      <td>...</td>\n",
       "      <td>74529.0</td>\n",
       "      <td>5733.0</td>\n",
       "      <td>107013.27</td>\n",
       "      <td>2639.91</td>\n",
       "      <td>441.00</td>\n",
       "      <td>8231.790</td>\n",
       "      <td>203.070</td>\n",
       "      <td>153656.1601</td>\n",
       "      <td>3790.5433</td>\n",
       "      <td>93.5089</td>\n",
       "    </tr>\n",
       "    <tr>\n",
       "      <th>502</th>\n",
       "      <td>1.0</td>\n",
       "      <td>0.04527</td>\n",
       "      <td>0.0</td>\n",
       "      <td>11.93</td>\n",
       "      <td>0.0</td>\n",
       "      <td>0.573</td>\n",
       "      <td>6.120</td>\n",
       "      <td>76.7</td>\n",
       "      <td>2.2875</td>\n",
       "      <td>1.0</td>\n",
       "      <td>...</td>\n",
       "      <td>74529.0</td>\n",
       "      <td>5733.0</td>\n",
       "      <td>108353.70</td>\n",
       "      <td>2478.84</td>\n",
       "      <td>441.00</td>\n",
       "      <td>8334.900</td>\n",
       "      <td>190.680</td>\n",
       "      <td>157529.6100</td>\n",
       "      <td>3603.8520</td>\n",
       "      <td>82.4464</td>\n",
       "    </tr>\n",
       "    <tr>\n",
       "      <th>503</th>\n",
       "      <td>1.0</td>\n",
       "      <td>0.06076</td>\n",
       "      <td>0.0</td>\n",
       "      <td>11.93</td>\n",
       "      <td>0.0</td>\n",
       "      <td>0.573</td>\n",
       "      <td>6.976</td>\n",
       "      <td>91.0</td>\n",
       "      <td>2.1675</td>\n",
       "      <td>1.0</td>\n",
       "      <td>...</td>\n",
       "      <td>74529.0</td>\n",
       "      <td>5733.0</td>\n",
       "      <td>108353.70</td>\n",
       "      <td>1539.72</td>\n",
       "      <td>441.00</td>\n",
       "      <td>8334.900</td>\n",
       "      <td>118.440</td>\n",
       "      <td>157529.6100</td>\n",
       "      <td>2238.5160</td>\n",
       "      <td>31.8096</td>\n",
       "    </tr>\n",
       "    <tr>\n",
       "      <th>504</th>\n",
       "      <td>1.0</td>\n",
       "      <td>0.10959</td>\n",
       "      <td>0.0</td>\n",
       "      <td>11.93</td>\n",
       "      <td>0.0</td>\n",
       "      <td>0.573</td>\n",
       "      <td>6.794</td>\n",
       "      <td>89.3</td>\n",
       "      <td>2.3889</td>\n",
       "      <td>1.0</td>\n",
       "      <td>...</td>\n",
       "      <td>74529.0</td>\n",
       "      <td>5733.0</td>\n",
       "      <td>107411.85</td>\n",
       "      <td>1769.04</td>\n",
       "      <td>441.00</td>\n",
       "      <td>8262.450</td>\n",
       "      <td>136.080</td>\n",
       "      <td>154802.9025</td>\n",
       "      <td>2549.5560</td>\n",
       "      <td>41.9904</td>\n",
       "    </tr>\n",
       "    <tr>\n",
       "      <th>505</th>\n",
       "      <td>1.0</td>\n",
       "      <td>0.04741</td>\n",
       "      <td>0.0</td>\n",
       "      <td>11.93</td>\n",
       "      <td>0.0</td>\n",
       "      <td>0.573</td>\n",
       "      <td>6.030</td>\n",
       "      <td>80.8</td>\n",
       "      <td>2.5050</td>\n",
       "      <td>1.0</td>\n",
       "      <td>...</td>\n",
       "      <td>74529.0</td>\n",
       "      <td>5733.0</td>\n",
       "      <td>108353.70</td>\n",
       "      <td>2151.24</td>\n",
       "      <td>441.00</td>\n",
       "      <td>8334.900</td>\n",
       "      <td>165.480</td>\n",
       "      <td>157529.6100</td>\n",
       "      <td>3127.5720</td>\n",
       "      <td>62.0944</td>\n",
       "    </tr>\n",
       "  </tbody>\n",
       "</table>\n",
       "<p>506 rows × 105 columns</p>\n",
       "</div>"
      ],
      "text/plain": [
       "       1     CRIM    ZN  INDUS  CHAS    NOX     RM   AGE     DIS  RAD  ...  \\\n",
       "0    1.0  0.00632  18.0   2.31   0.0  0.538  6.575  65.2  4.0900  1.0  ...   \n",
       "1    1.0  0.02731   0.0   7.07   0.0  0.469  6.421  78.9  4.9671  2.0  ...   \n",
       "2    1.0  0.02729   0.0   7.07   0.0  0.469  7.185  61.1  4.9671  2.0  ...   \n",
       "3    1.0  0.03237   0.0   2.18   0.0  0.458  6.998  45.8  6.0622  3.0  ...   \n",
       "4    1.0  0.06905   0.0   2.18   0.0  0.458  7.147  54.2  6.0622  3.0  ...   \n",
       "..   ...      ...   ...    ...   ...    ...    ...   ...     ...  ...  ...   \n",
       "501  1.0  0.06263   0.0  11.93   0.0  0.573  6.593  69.1  2.4786  1.0  ...   \n",
       "502  1.0  0.04527   0.0  11.93   0.0  0.573  6.120  76.7  2.2875  1.0  ...   \n",
       "503  1.0  0.06076   0.0  11.93   0.0  0.573  6.976  91.0  2.1675  1.0  ...   \n",
       "504  1.0  0.10959   0.0  11.93   0.0  0.573  6.794  89.3  2.3889  1.0  ...   \n",
       "505  1.0  0.04741   0.0  11.93   0.0  0.573  6.030  80.8  2.5050  1.0  ...   \n",
       "\n",
       "       TAX^2  TAX PTRATIO      TAX B  TAX LSTAT  PTRATIO^2  PTRATIO B  \\\n",
       "0    87616.0       4528.8  117482.40    1474.08     234.09   6072.570   \n",
       "1    58564.0       4307.6   96049.80    2211.88     316.84   7064.820   \n",
       "2    58564.0       4307.6   95064.86     975.26     316.84   6992.374   \n",
       "3    49284.0       4151.4   87607.86     652.68     349.69   7379.581   \n",
       "4    49284.0       4151.4   88111.80    1183.26     349.69   7422.030   \n",
       "..       ...          ...        ...        ...        ...        ...   \n",
       "501  74529.0       5733.0  107013.27    2639.91     441.00   8231.790   \n",
       "502  74529.0       5733.0  108353.70    2478.84     441.00   8334.900   \n",
       "503  74529.0       5733.0  108353.70    1539.72     441.00   8334.900   \n",
       "504  74529.0       5733.0  107411.85    1769.04     441.00   8262.450   \n",
       "505  74529.0       5733.0  108353.70    2151.24     441.00   8334.900   \n",
       "\n",
       "     PTRATIO LSTAT          B^2    B LSTAT  LSTAT^2  \n",
       "0           76.194  157529.6100  1976.5620  24.8004  \n",
       "1          162.692  157529.6100  3627.6660  83.5396  \n",
       "2           71.734  154315.4089  1583.1049  16.2409  \n",
       "3           54.978  155732.8369  1160.2122   8.6436  \n",
       "4           99.671  157529.6100  2115.4770  28.4089  \n",
       "..             ...          ...        ...      ...  \n",
       "501        203.070  153656.1601  3790.5433  93.5089  \n",
       "502        190.680  157529.6100  3603.8520  82.4464  \n",
       "503        118.440  157529.6100  2238.5160  31.8096  \n",
       "504        136.080  154802.9025  2549.5560  41.9904  \n",
       "505        165.480  157529.6100  3127.5720  62.0944  \n",
       "\n",
       "[506 rows x 105 columns]"
      ]
     },
     "execution_count": 13,
     "metadata": {},
     "output_type": "execute_result"
    }
   ],
   "source": [
    "X"
   ]
  },
  {
   "cell_type": "code",
   "execution_count": 14,
   "id": "573036e3",
   "metadata": {},
   "outputs": [
    {
     "data": {
      "text/plain": [
       "array([24. , 21.6, 34.7, 33.4, 36.2, 28.7, 22.9, 27.1, 16.5, 18.9, 15. ,\n",
       "       18.9, 21.7, 20.4, 18.2, 19.9, 23.1, 17.5, 20.2, 18.2, 13.6, 19.6,\n",
       "       15.2, 14.5, 15.6, 13.9, 16.6, 14.8, 18.4, 21. , 12.7, 14.5, 13.2,\n",
       "       13.1, 13.5, 18.9, 20. , 21. , 24.7, 30.8, 34.9, 26.6, 25.3, 24.7,\n",
       "       21.2, 19.3, 20. , 16.6, 14.4, 19.4, 19.7, 20.5, 25. , 23.4, 18.9,\n",
       "       35.4, 24.7, 31.6, 23.3, 19.6, 18.7, 16. , 22.2, 25. , 33. , 23.5,\n",
       "       19.4, 22. , 17.4, 20.9, 24.2, 21.7, 22.8, 23.4, 24.1, 21.4, 20. ,\n",
       "       20.8, 21.2, 20.3, 28. , 23.9, 24.8, 22.9, 23.9, 26.6, 22.5, 22.2,\n",
       "       23.6, 28.7, 22.6, 22. , 22.9, 25. , 20.6, 28.4, 21.4, 38.7, 43.8,\n",
       "       33.2, 27.5, 26.5, 18.6, 19.3, 20.1, 19.5, 19.5, 20.4, 19.8, 19.4,\n",
       "       21.7, 22.8, 18.8, 18.7, 18.5, 18.3, 21.2, 19.2, 20.4, 19.3, 22. ,\n",
       "       20.3, 20.5, 17.3, 18.8, 21.4, 15.7, 16.2, 18. , 14.3, 19.2, 19.6,\n",
       "       23. , 18.4, 15.6, 18.1, 17.4, 17.1, 13.3, 17.8, 14. , 14.4, 13.4,\n",
       "       15.6, 11.8, 13.8, 15.6, 14.6, 17.8, 15.4, 21.5, 19.6, 15.3, 19.4,\n",
       "       17. , 15.6, 13.1, 41.3, 24.3, 23.3, 27. , 50. , 50. , 50. , 22.7,\n",
       "       25. , 50. , 23.8, 23.8, 22.3, 17.4, 19.1, 23.1, 23.6, 22.6, 29.4,\n",
       "       23.2, 24.6, 29.9, 37.2, 39.8, 36.2, 37.9, 32.5, 26.4, 29.6, 50. ,\n",
       "       32. , 29.8, 34.9, 37. , 30.5, 36.4, 31.1, 29.1, 50. , 33.3, 30.3,\n",
       "       34.6, 34.9, 32.9, 24.1, 42.3, 48.5, 50. , 22.6, 24.4, 22.5, 24.4,\n",
       "       20. , 21.7, 19.3, 22.4, 28.1, 23.7, 25. , 23.3, 28.7, 21.5, 23. ,\n",
       "       26.7, 21.7, 27.5, 30.1, 44.8, 50. , 37.6, 31.6, 46.7, 31.5, 24.3,\n",
       "       31.7, 41.7, 48.3, 29. , 24. , 25.1, 31.5, 23.7, 23.3, 22. , 20.1,\n",
       "       22.2, 23.7, 17.6, 18.5, 24.3, 20.5, 24.5, 26.2, 24.4, 24.8, 29.6,\n",
       "       42.8, 21.9, 20.9, 44. , 50. , 36. , 30.1, 33.8, 43.1, 48.8, 31. ,\n",
       "       36.5, 22.8, 30.7, 50. , 43.5, 20.7, 21.1, 25.2, 24.4, 35.2, 32.4,\n",
       "       32. , 33.2, 33.1, 29.1, 35.1, 45.4, 35.4, 46. , 50. , 32.2, 22. ,\n",
       "       20.1, 23.2, 22.3, 24.8, 28.5, 37.3, 27.9, 23.9, 21.7, 28.6, 27.1,\n",
       "       20.3, 22.5, 29. , 24.8, 22. , 26.4, 33.1, 36.1, 28.4, 33.4, 28.2,\n",
       "       22.8, 20.3, 16.1, 22.1, 19.4, 21.6, 23.8, 16.2, 17.8, 19.8, 23.1,\n",
       "       21. , 23.8, 23.1, 20.4, 18.5, 25. , 24.6, 23. , 22.2, 19.3, 22.6,\n",
       "       19.8, 17.1, 19.4, 22.2, 20.7, 21.1, 19.5, 18.5, 20.6, 19. , 18.7,\n",
       "       32.7, 16.5, 23.9, 31.2, 17.5, 17.2, 23.1, 24.5, 26.6, 22.9, 24.1,\n",
       "       18.6, 30.1, 18.2, 20.6, 17.8, 21.7, 22.7, 22.6, 25. , 19.9, 20.8,\n",
       "       16.8, 21.9, 27.5, 21.9, 23.1, 50. , 50. , 50. , 50. , 50. , 13.8,\n",
       "       13.8, 15. , 13.9, 13.3, 13.1, 10.2, 10.4, 10.9, 11.3, 12.3,  8.8,\n",
       "        7.2, 10.5,  7.4, 10.2, 11.5, 15.1, 23.2,  9.7, 13.8, 12.7, 13.1,\n",
       "       12.5,  8.5,  5. ,  6.3,  5.6,  7.2, 12.1,  8.3,  8.5,  5. , 11.9,\n",
       "       27.9, 17.2, 27.5, 15. , 17.2, 17.9, 16.3,  7. ,  7.2,  7.5, 10.4,\n",
       "        8.8,  8.4, 16.7, 14.2, 20.8, 13.4, 11.7,  8.3, 10.2, 10.9, 11. ,\n",
       "        9.5, 14.5, 14.1, 16.1, 14.3, 11.7, 13.4,  9.6,  8.7,  8.4, 12.8,\n",
       "       10.5, 17.1, 18.4, 15.4, 10.8, 11.8, 14.9, 12.6, 14.1, 13. , 13.4,\n",
       "       15.2, 16.1, 17.8, 14.9, 14.1, 12.7, 13.5, 14.9, 20. , 16.4, 17.7,\n",
       "       19.5, 20.2, 21.4, 19.9, 19. , 19.1, 19.1, 20.1, 19.9, 19.6, 23.2,\n",
       "       29.8, 13.8, 13.3, 16.7, 12. , 14.6, 21.4, 23. , 23.7, 25. , 21.8,\n",
       "       20.6, 21.2, 19.1, 20.6, 15.2,  7. ,  8.1, 13.6, 20.1, 21.8, 24.5,\n",
       "       23.1, 19.7, 18.3, 21.2, 17.5, 16.8, 22.4, 20.6, 23.9, 22. , 11.9])"
      ]
     },
     "execution_count": 14,
     "metadata": {},
     "output_type": "execute_result"
    }
   ],
   "source": [
    "boston_dataset.target"
   ]
  },
  {
   "cell_type": "code",
   "execution_count": 15,
   "id": "8b988922",
   "metadata": {},
   "outputs": [
    {
     "data": {
      "text/html": [
       "<div>\n",
       "<style scoped>\n",
       "    .dataframe tbody tr th:only-of-type {\n",
       "        vertical-align: middle;\n",
       "    }\n",
       "\n",
       "    .dataframe tbody tr th {\n",
       "        vertical-align: top;\n",
       "    }\n",
       "\n",
       "    .dataframe thead th {\n",
       "        text-align: right;\n",
       "    }\n",
       "</style>\n",
       "<table border=\"1\" class=\"dataframe\">\n",
       "  <thead>\n",
       "    <tr style=\"text-align: right;\">\n",
       "      <th></th>\n",
       "      <th>MEDV</th>\n",
       "    </tr>\n",
       "  </thead>\n",
       "  <tbody>\n",
       "    <tr>\n",
       "      <th>0</th>\n",
       "      <td>24.0</td>\n",
       "    </tr>\n",
       "    <tr>\n",
       "      <th>1</th>\n",
       "      <td>21.6</td>\n",
       "    </tr>\n",
       "    <tr>\n",
       "      <th>2</th>\n",
       "      <td>34.7</td>\n",
       "    </tr>\n",
       "    <tr>\n",
       "      <th>3</th>\n",
       "      <td>33.4</td>\n",
       "    </tr>\n",
       "    <tr>\n",
       "      <th>4</th>\n",
       "      <td>36.2</td>\n",
       "    </tr>\n",
       "    <tr>\n",
       "      <th>...</th>\n",
       "      <td>...</td>\n",
       "    </tr>\n",
       "    <tr>\n",
       "      <th>501</th>\n",
       "      <td>22.4</td>\n",
       "    </tr>\n",
       "    <tr>\n",
       "      <th>502</th>\n",
       "      <td>20.6</td>\n",
       "    </tr>\n",
       "    <tr>\n",
       "      <th>503</th>\n",
       "      <td>23.9</td>\n",
       "    </tr>\n",
       "    <tr>\n",
       "      <th>504</th>\n",
       "      <td>22.0</td>\n",
       "    </tr>\n",
       "    <tr>\n",
       "      <th>505</th>\n",
       "      <td>11.9</td>\n",
       "    </tr>\n",
       "  </tbody>\n",
       "</table>\n",
       "<p>506 rows × 1 columns</p>\n",
       "</div>"
      ],
      "text/plain": [
       "     MEDV\n",
       "0    24.0\n",
       "1    21.6\n",
       "2    34.7\n",
       "3    33.4\n",
       "4    36.2\n",
       "..    ...\n",
       "501  22.4\n",
       "502  20.6\n",
       "503  23.9\n",
       "504  22.0\n",
       "505  11.9\n",
       "\n",
       "[506 rows x 1 columns]"
      ]
     },
     "execution_count": 15,
     "metadata": {},
     "output_type": "execute_result"
    }
   ],
   "source": [
    "y = pd.DataFrame(boston_dataset.target, columns = ['MEDV'])\n",
    "y"
   ]
  },
  {
   "cell_type": "code",
   "execution_count": 16,
   "id": "019ce730",
   "metadata": {},
   "outputs": [],
   "source": [
    "X_train, X_test, y_train, y_test = train_test_split(X, y, test_size = 0.2, random_state=5)"
   ]
  },
  {
   "cell_type": "code",
   "execution_count": 17,
   "id": "24cbd933",
   "metadata": {},
   "outputs": [],
   "source": [
    "model = LinearRegression()"
   ]
  },
  {
   "cell_type": "code",
   "execution_count": 18,
   "id": "a56b47a8",
   "metadata": {},
   "outputs": [
    {
     "data": {
      "text/plain": [
       "LinearRegression()"
      ]
     },
     "execution_count": 18,
     "metadata": {},
     "output_type": "execute_result"
    }
   ],
   "source": [
    "model.fit(X_train, y_train)"
   ]
  },
  {
   "cell_type": "code",
   "execution_count": 19,
   "id": "7966a1b4",
   "metadata": {},
   "outputs": [
    {
     "data": {
      "text/plain": [
       "array([[-2.55720149e-07, -5.09146959e+00, -1.65753983e-01,\n",
       "        -5.97358604e+00,  2.43179261e+01,  1.65180559e+02,\n",
       "         2.19910116e+01,  1.03167123e+00, -5.66895775e+00,\n",
       "         3.22443249e+00, -1.10055942e-02,  5.35127787e+00,\n",
       "        -4.81524409e-02,  7.53109325e-01,  2.16774682e-03,\n",
       "         2.69938772e-01,  5.87901385e-01,  2.41731932e+00,\n",
       "        -2.52413196e-02,  8.92859572e-02, -5.18832420e-03,\n",
       "        -5.77807152e-02,  3.55602049e-01, -3.86092282e-02,\n",
       "         5.43572101e-01, -3.18134359e-04,  2.40035425e-02,\n",
       "        -7.48850219e-04, -7.16133310e-03, -1.06886010e-01,\n",
       "        -1.27782609e+00,  2.50137719e-02,  1.14111417e-04,\n",
       "        -1.25254119e-02, -4.68024813e-03,  6.05725185e-04,\n",
       "        -8.57873132e-03,  1.85030053e-03, -4.64730601e-03,\n",
       "         3.08484808e-02, -2.09065897e-01,  1.30035723e+00,\n",
       "         3.13497405e-01,  6.72540164e-04,  7.51823883e-02,\n",
       "        -7.38014889e-03,  4.23364348e-04, -6.72155117e-03,\n",
       "         6.42107774e-03, -5.32275093e-03,  2.43179260e+01,\n",
       "        -1.84845896e+01, -6.89090796e+00,  3.60375828e-02,\n",
       "         3.05451225e+00, -4.09746374e-01,  2.34143012e-02,\n",
       "        -8.47140007e-01,  2.67079534e-02, -4.67786369e-01,\n",
       "        -4.67850811e+01,  3.64543351e+00, -6.00214489e-01,\n",
       "         1.59316284e+01, -9.85012970e-01,  1.34091848e-01,\n",
       "        -1.19204901e+01, -3.52741122e-02,  1.49910251e+00,\n",
       "         1.61796865e-01, -5.59710757e-02, -2.01415693e-02,\n",
       "        -1.48173641e-01, -1.44084743e-02, -5.43970810e-01,\n",
       "        -2.51829107e-03, -2.23180151e-01,  1.04437605e-04,\n",
       "        -1.11866477e-02,  1.76080422e-02, -5.61733227e-04,\n",
       "         7.89859008e-04, -7.29621881e-04, -6.91541692e-03,\n",
       "         5.10744891e-01, -9.97148047e-02, -5.10129116e-03,\n",
       "        -1.89041938e-01, -7.59517251e-03,  1.03720290e-01,\n",
       "        -1.40678180e-01,  7.67704651e-03, -1.15933963e-01,\n",
       "        -9.65920563e-04, -4.55543664e-02, -5.15985543e-05,\n",
       "         6.37266840e-03, -1.20248657e-04, -1.90119503e-04,\n",
       "        -1.35160919e-02,  9.14979704e-03, -2.02259707e-04,\n",
       "        -1.93102592e-05, -7.46677274e-04,  9.84814764e-03]])"
      ]
     },
     "execution_count": 19,
     "metadata": {},
     "output_type": "execute_result"
    }
   ],
   "source": [
    "model.coef_"
   ]
  },
  {
   "cell_type": "code",
   "execution_count": 20,
   "id": "332f65ad",
   "metadata": {},
   "outputs": [
    {
     "data": {
      "text/plain": [
       "array([-141.89855577])"
      ]
     },
     "execution_count": 20,
     "metadata": {},
     "output_type": "execute_result"
    }
   ],
   "source": [
    "model.intercept_"
   ]
  },
  {
   "cell_type": "code",
   "execution_count": 21,
   "id": "b4985f28",
   "metadata": {},
   "outputs": [],
   "source": [
    "y_test_prediction = model.predict(X_test)"
   ]
  },
  {
   "cell_type": "code",
   "execution_count": 22,
   "id": "f46a7010",
   "metadata": {},
   "outputs": [
    {
     "data": {
      "text/plain": [
       "3.1965276510293994"
      ]
     },
     "execution_count": 22,
     "metadata": {},
     "output_type": "execute_result"
    }
   ],
   "source": [
    "mean_squared_error(y_test, y_test_prediction) ** 0.5 #앞의 다중 선형 회귀보다 오차가 훨씬 더 줄어 들었다!"
   ]
  },
  {
   "cell_type": "code",
   "execution_count": null,
   "id": "eb7907a9",
   "metadata": {},
   "outputs": [],
   "source": []
  }
 ],
 "metadata": {
  "kernelspec": {
   "display_name": "Python 3",
   "language": "python",
   "name": "python3"
  },
  "language_info": {
   "codemirror_mode": {
    "name": "ipython",
    "version": 3
   },
   "file_extension": ".py",
   "mimetype": "text/x-python",
   "name": "python",
   "nbconvert_exporter": "python",
   "pygments_lexer": "ipython3",
   "version": "3.8.8"
  }
 },
 "nbformat": 4,
 "nbformat_minor": 5
}
