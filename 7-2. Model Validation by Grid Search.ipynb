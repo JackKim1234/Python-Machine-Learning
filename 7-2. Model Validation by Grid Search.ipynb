{
 "cells": [
  {
   "cell_type": "code",
   "execution_count": 1,
   "id": "3ab742ae",
   "metadata": {},
   "outputs": [],
   "source": [
    "from sklearn.linear_model import Lasso\n",
    "from sklearn.model_selection import train_test_split\n",
    "from sklearn.metrics import mean_squared_error\n",
    "from sklearn.preprocessing import PolynomialFeatures\n",
    "from sklearn.model_selection import GridSearchCV          # Grid Search 사용\n",
    "from math import sqrt\n",
    "\n",
    "import numpy as np\n",
    "import pandas as pd"
   ]
  },
  {
   "cell_type": "code",
   "execution_count": 2,
   "id": "52113a9f",
   "metadata": {},
   "outputs": [],
   "source": [
    "ADMISSION_FILE_PATH = 'C:/Users/USER/Desktop/김주호/코딩/Python/2. Machine Learning/admission_data.csv'"
   ]
  },
  {
   "cell_type": "code",
   "execution_count": 3,
   "id": "039c7f4f",
   "metadata": {},
   "outputs": [],
   "source": [
    "admission_df = pd.read_csv(ADMISSION_FILE_PATH)"
   ]
  },
  {
   "cell_type": "code",
   "execution_count": 4,
   "id": "da829700",
   "metadata": {},
   "outputs": [],
   "source": [
    "X = admission_df.drop('Chance of Admit ', axis = 1)     #Chance if Admit (우리가 원하는 데이터)를 표에서 빼 입력을 만듦"
   ]
  },
  {
   "cell_type": "code",
   "execution_count": 5,
   "id": "e40e83a9",
   "metadata": {},
   "outputs": [],
   "source": [
    "polynomial_transformer = PolynomialFeatures(2)    # 2차 함수로 만들고 싶다"
   ]
  },
  {
   "cell_type": "code",
   "execution_count": 6,
   "id": "8a31f302",
   "metadata": {},
   "outputs": [],
   "source": [
    "polynomial_features = polynomial_transformer.fit_transform(X.values)      #X (입력)의 값들을 2제곱까지 있는 데이터로 변형한다"
   ]
  },
  {
   "cell_type": "code",
   "execution_count": 7,
   "id": "3a8434dd",
   "metadata": {},
   "outputs": [],
   "source": [
    "features = polynomial_transformer.get_feature_names(X.columns)           # 2제곱 까지한 열들의 데이터를 모은다"
   ]
  },
  {
   "cell_type": "code",
   "execution_count": 8,
   "id": "53f1352a",
   "metadata": {},
   "outputs": [],
   "source": [
    "X = pd.DataFrame(polynomial_features, columns = features)                # 입력 데이터 프레임"
   ]
  },
  {
   "cell_type": "code",
   "execution_count": 9,
   "id": "38b9c379",
   "metadata": {},
   "outputs": [],
   "source": [
    "y = admission_df[['Chance of Admit ']]                                   #출력 데이터"
   ]
  },
  {
   "cell_type": "code",
   "execution_count": 10,
   "id": "c498e09e",
   "metadata": {},
   "outputs": [],
   "source": [
    "hyper_parameter = {\n",
    "    \n",
    "    'alpha' : [0.01, 0.1, 1, 10],\n",
    "    'max_iter' : [100,500,1000,1500,2000]\n",
    "    \n",
    "}                                                                         # Hyper-Parameter를 Dictionary 형태로 모음"
   ]
  },
  {
   "cell_type": "code",
   "execution_count": 11,
   "id": "fc214da0",
   "metadata": {},
   "outputs": [],
   "source": [
    "lasso_model = Lasso()                                                   # 이번에는 Lasso Model의 괄호에 아무것도 넣지 않는다."
   ]
  },
  {
   "cell_type": "code",
   "execution_count": 12,
   "id": "d15dc9ea",
   "metadata": {},
   "outputs": [],
   "source": [
    "hyper_parameter_tuner = GridSearchCV(lasso_model, hyper_parameter, cv=5)  # GridSearch 칸을 저장하는 공간 생성, 5-fold Cross Validation"
   ]
  },
  {
   "cell_type": "code",
   "execution_count": 13,
   "id": "592455d8",
   "metadata": {},
   "outputs": [
    {
     "name": "stderr",
     "output_type": "stream",
     "text": [
      "C:\\Users\\USER\\anaconda3\\lib\\site-packages\\sklearn\\linear_model\\_coordinate_descent.py:530: ConvergenceWarning: Objective did not converge. You might want to increase the number of iterations. Duality gap: 0.425399747213212, tolerance: 0.0006706039000000001\n",
      "  model = cd_fast.enet_coordinate_descent(\n",
      "C:\\Users\\USER\\anaconda3\\lib\\site-packages\\sklearn\\linear_model\\_coordinate_descent.py:530: ConvergenceWarning: Objective did not converge. You might want to increase the number of iterations. Duality gap: 0.6427237098660837, tolerance: 0.0008245817750000001\n",
      "  model = cd_fast.enet_coordinate_descent(\n",
      "C:\\Users\\USER\\anaconda3\\lib\\site-packages\\sklearn\\linear_model\\_coordinate_descent.py:530: ConvergenceWarning: Objective did not converge. You might want to increase the number of iterations. Duality gap: 0.7268361771953719, tolerance: 0.0008590157750000001\n",
      "  model = cd_fast.enet_coordinate_descent(\n",
      "C:\\Users\\USER\\anaconda3\\lib\\site-packages\\sklearn\\linear_model\\_coordinate_descent.py:530: ConvergenceWarning: Objective did not converge. You might want to increase the number of iterations. Duality gap: 0.6364317724064631, tolerance: 0.0007997224000000001\n",
      "  model = cd_fast.enet_coordinate_descent(\n",
      "C:\\Users\\USER\\anaconda3\\lib\\site-packages\\sklearn\\linear_model\\_coordinate_descent.py:530: ConvergenceWarning: Objective did not converge. You might want to increase the number of iterations. Duality gap: 0.6963222954602128, tolerance: 0.0008114630999999999\n",
      "  model = cd_fast.enet_coordinate_descent(\n",
      "C:\\Users\\USER\\anaconda3\\lib\\site-packages\\sklearn\\linear_model\\_coordinate_descent.py:530: ConvergenceWarning: Objective did not converge. You might want to increase the number of iterations. Duality gap: 0.4180413726372561, tolerance: 0.0006706039000000001\n",
      "  model = cd_fast.enet_coordinate_descent(\n",
      "C:\\Users\\USER\\anaconda3\\lib\\site-packages\\sklearn\\linear_model\\_coordinate_descent.py:530: ConvergenceWarning: Objective did not converge. You might want to increase the number of iterations. Duality gap: 0.6367536921074396, tolerance: 0.0008245817750000001\n",
      "  model = cd_fast.enet_coordinate_descent(\n",
      "C:\\Users\\USER\\anaconda3\\lib\\site-packages\\sklearn\\linear_model\\_coordinate_descent.py:530: ConvergenceWarning: Objective did not converge. You might want to increase the number of iterations. Duality gap: 0.7207154089253448, tolerance: 0.0008590157750000001\n",
      "  model = cd_fast.enet_coordinate_descent(\n",
      "C:\\Users\\USER\\anaconda3\\lib\\site-packages\\sklearn\\linear_model\\_coordinate_descent.py:530: ConvergenceWarning: Objective did not converge. You might want to increase the number of iterations. Duality gap: 0.6307153394423219, tolerance: 0.0007997224000000001\n",
      "  model = cd_fast.enet_coordinate_descent(\n",
      "C:\\Users\\USER\\anaconda3\\lib\\site-packages\\sklearn\\linear_model\\_coordinate_descent.py:530: ConvergenceWarning: Objective did not converge. You might want to increase the number of iterations. Duality gap: 0.6917305509775316, tolerance: 0.0008114630999999999\n",
      "  model = cd_fast.enet_coordinate_descent(\n",
      "C:\\Users\\USER\\anaconda3\\lib\\site-packages\\sklearn\\linear_model\\_coordinate_descent.py:530: ConvergenceWarning: Objective did not converge. You might want to increase the number of iterations. Duality gap: 0.38139406350333616, tolerance: 0.0006706039000000001\n",
      "  model = cd_fast.enet_coordinate_descent(\n",
      "C:\\Users\\USER\\anaconda3\\lib\\site-packages\\sklearn\\linear_model\\_coordinate_descent.py:530: ConvergenceWarning: Objective did not converge. You might want to increase the number of iterations. Duality gap: 0.6337331617287234, tolerance: 0.0008245817750000001\n",
      "  model = cd_fast.enet_coordinate_descent(\n",
      "C:\\Users\\USER\\anaconda3\\lib\\site-packages\\sklearn\\linear_model\\_coordinate_descent.py:530: ConvergenceWarning: Objective did not converge. You might want to increase the number of iterations. Duality gap: 0.7147572370410452, tolerance: 0.0008590157750000001\n",
      "  model = cd_fast.enet_coordinate_descent(\n",
      "C:\\Users\\USER\\anaconda3\\lib\\site-packages\\sklearn\\linear_model\\_coordinate_descent.py:530: ConvergenceWarning: Objective did not converge. You might want to increase the number of iterations. Duality gap: 0.6272640425010643, tolerance: 0.0007997224000000001\n",
      "  model = cd_fast.enet_coordinate_descent(\n",
      "C:\\Users\\USER\\anaconda3\\lib\\site-packages\\sklearn\\linear_model\\_coordinate_descent.py:530: ConvergenceWarning: Objective did not converge. You might want to increase the number of iterations. Duality gap: 0.6877283781941088, tolerance: 0.0008114630999999999\n",
      "  model = cd_fast.enet_coordinate_descent(\n",
      "C:\\Users\\USER\\anaconda3\\lib\\site-packages\\sklearn\\linear_model\\_coordinate_descent.py:530: ConvergenceWarning: Objective did not converge. You might want to increase the number of iterations. Duality gap: 0.35823559789621484, tolerance: 0.0006706039000000001\n",
      "  model = cd_fast.enet_coordinate_descent(\n",
      "C:\\Users\\USER\\anaconda3\\lib\\site-packages\\sklearn\\linear_model\\_coordinate_descent.py:530: ConvergenceWarning: Objective did not converge. You might want to increase the number of iterations. Duality gap: 0.6329945142204275, tolerance: 0.0008245817750000001\n",
      "  model = cd_fast.enet_coordinate_descent(\n",
      "C:\\Users\\USER\\anaconda3\\lib\\site-packages\\sklearn\\linear_model\\_coordinate_descent.py:530: ConvergenceWarning: Objective did not converge. You might want to increase the number of iterations. Duality gap: 0.7160084566094387, tolerance: 0.0008590157750000001\n",
      "  model = cd_fast.enet_coordinate_descent(\n",
      "C:\\Users\\USER\\anaconda3\\lib\\site-packages\\sklearn\\linear_model\\_coordinate_descent.py:530: ConvergenceWarning: Objective did not converge. You might want to increase the number of iterations. Duality gap: 0.6286326647079493, tolerance: 0.0007997224000000001\n",
      "  model = cd_fast.enet_coordinate_descent(\n",
      "C:\\Users\\USER\\anaconda3\\lib\\site-packages\\sklearn\\linear_model\\_coordinate_descent.py:530: ConvergenceWarning: Objective did not converge. You might want to increase the number of iterations. Duality gap: 0.6824704561525885, tolerance: 0.0008114630999999999\n",
      "  model = cd_fast.enet_coordinate_descent(\n",
      "C:\\Users\\USER\\anaconda3\\lib\\site-packages\\sklearn\\linear_model\\_coordinate_descent.py:530: ConvergenceWarning: Objective did not converge. You might want to increase the number of iterations. Duality gap: 0.3581814283368616, tolerance: 0.0006706039000000001\n",
      "  model = cd_fast.enet_coordinate_descent(\n",
      "C:\\Users\\USER\\anaconda3\\lib\\site-packages\\sklearn\\linear_model\\_coordinate_descent.py:530: ConvergenceWarning: Objective did not converge. You might want to increase the number of iterations. Duality gap: 0.5533129048473867, tolerance: 0.0008245817750000001\n",
      "  model = cd_fast.enet_coordinate_descent(\n",
      "C:\\Users\\USER\\anaconda3\\lib\\site-packages\\sklearn\\linear_model\\_coordinate_descent.py:530: ConvergenceWarning: Objective did not converge. You might want to increase the number of iterations. Duality gap: 0.7153730577890197, tolerance: 0.0008590157750000001\n",
      "  model = cd_fast.enet_coordinate_descent(\n",
      "C:\\Users\\USER\\anaconda3\\lib\\site-packages\\sklearn\\linear_model\\_coordinate_descent.py:530: ConvergenceWarning: Objective did not converge. You might want to increase the number of iterations. Duality gap: 0.6255174062346186, tolerance: 0.0007997224000000001\n",
      "  model = cd_fast.enet_coordinate_descent(\n",
      "C:\\Users\\USER\\anaconda3\\lib\\site-packages\\sklearn\\linear_model\\_coordinate_descent.py:530: ConvergenceWarning: Objective did not converge. You might want to increase the number of iterations. Duality gap: 0.6673846700425923, tolerance: 0.0008114630999999999\n",
      "  model = cd_fast.enet_coordinate_descent(\n",
      "C:\\Users\\USER\\anaconda3\\lib\\site-packages\\sklearn\\linear_model\\_coordinate_descent.py:530: ConvergenceWarning: Objective did not converge. You might want to increase the number of iterations. Duality gap: 0.4360717251118691, tolerance: 0.0006706039000000001\n",
      "  model = cd_fast.enet_coordinate_descent(\n",
      "C:\\Users\\USER\\anaconda3\\lib\\site-packages\\sklearn\\linear_model\\_coordinate_descent.py:530: ConvergenceWarning: Objective did not converge. You might want to increase the number of iterations. Duality gap: 0.6627303534999374, tolerance: 0.0008245817750000001\n",
      "  model = cd_fast.enet_coordinate_descent(\n",
      "C:\\Users\\USER\\anaconda3\\lib\\site-packages\\sklearn\\linear_model\\_coordinate_descent.py:530: ConvergenceWarning: Objective did not converge. You might want to increase the number of iterations. Duality gap: 0.7354661917783777, tolerance: 0.0008590157750000001\n",
      "  model = cd_fast.enet_coordinate_descent(\n",
      "C:\\Users\\USER\\anaconda3\\lib\\site-packages\\sklearn\\linear_model\\_coordinate_descent.py:530: ConvergenceWarning: Objective did not converge. You might want to increase the number of iterations. Duality gap: 0.6449387332179907, tolerance: 0.0007997224000000001\n",
      "  model = cd_fast.enet_coordinate_descent(\n",
      "C:\\Users\\USER\\anaconda3\\lib\\site-packages\\sklearn\\linear_model\\_coordinate_descent.py:530: ConvergenceWarning: Objective did not converge. You might want to increase the number of iterations. Duality gap: 0.705302460730254, tolerance: 0.0008114630999999999\n",
      "  model = cd_fast.enet_coordinate_descent(\n",
      "C:\\Users\\USER\\anaconda3\\lib\\site-packages\\sklearn\\linear_model\\_coordinate_descent.py:530: ConvergenceWarning: Objective did not converge. You might want to increase the number of iterations. Duality gap: 0.15341008856648403, tolerance: 0.0006706039000000001\n",
      "  model = cd_fast.enet_coordinate_descent(\n",
      "C:\\Users\\USER\\anaconda3\\lib\\site-packages\\sklearn\\linear_model\\_coordinate_descent.py:530: ConvergenceWarning: Objective did not converge. You might want to increase the number of iterations. Duality gap: 0.6207512911666795, tolerance: 0.0008245817750000001\n",
      "  model = cd_fast.enet_coordinate_descent(\n",
      "C:\\Users\\USER\\anaconda3\\lib\\site-packages\\sklearn\\linear_model\\_coordinate_descent.py:530: ConvergenceWarning: Objective did not converge. You might want to increase the number of iterations. Duality gap: 0.5237184980367877, tolerance: 0.0008590157750000001\n",
      "  model = cd_fast.enet_coordinate_descent(\n",
      "C:\\Users\\USER\\anaconda3\\lib\\site-packages\\sklearn\\linear_model\\_coordinate_descent.py:530: ConvergenceWarning: Objective did not converge. You might want to increase the number of iterations. Duality gap: 0.44014746799798815, tolerance: 0.0007997224000000001\n",
      "  model = cd_fast.enet_coordinate_descent(\n",
      "C:\\Users\\USER\\anaconda3\\lib\\site-packages\\sklearn\\linear_model\\_coordinate_descent.py:530: ConvergenceWarning: Objective did not converge. You might want to increase the number of iterations. Duality gap: 0.6479339766744167, tolerance: 0.0008114630999999999\n",
      "  model = cd_fast.enet_coordinate_descent(\n",
      "C:\\Users\\USER\\anaconda3\\lib\\site-packages\\sklearn\\linear_model\\_coordinate_descent.py:530: ConvergenceWarning: Objective did not converge. You might want to increase the number of iterations. Duality gap: 0.28148016641338114, tolerance: 0.0006706039000000001\n",
      "  model = cd_fast.enet_coordinate_descent(\n",
      "C:\\Users\\USER\\anaconda3\\lib\\site-packages\\sklearn\\linear_model\\_coordinate_descent.py:530: ConvergenceWarning: Objective did not converge. You might want to increase the number of iterations. Duality gap: 0.5805234782469237, tolerance: 0.0008245817750000001\n",
      "  model = cd_fast.enet_coordinate_descent(\n",
      "C:\\Users\\USER\\anaconda3\\lib\\site-packages\\sklearn\\linear_model\\_coordinate_descent.py:530: ConvergenceWarning: Objective did not converge. You might want to increase the number of iterations. Duality gap: 0.3755330769447264, tolerance: 0.0008590157750000001\n",
      "  model = cd_fast.enet_coordinate_descent(\n",
      "C:\\Users\\USER\\anaconda3\\lib\\site-packages\\sklearn\\linear_model\\_coordinate_descent.py:530: ConvergenceWarning: Objective did not converge. You might want to increase the number of iterations. Duality gap: 0.2548200873417949, tolerance: 0.0007997224000000001\n",
      "  model = cd_fast.enet_coordinate_descent(\n"
     ]
    },
    {
     "name": "stderr",
     "output_type": "stream",
     "text": [
      "C:\\Users\\USER\\anaconda3\\lib\\site-packages\\sklearn\\linear_model\\_coordinate_descent.py:530: ConvergenceWarning: Objective did not converge. You might want to increase the number of iterations. Duality gap: 0.6318652688804645, tolerance: 0.0008114630999999999\n",
      "  model = cd_fast.enet_coordinate_descent(\n",
      "C:\\Users\\USER\\anaconda3\\lib\\site-packages\\sklearn\\linear_model\\_coordinate_descent.py:530: ConvergenceWarning: Objective did not converge. You might want to increase the number of iterations. Duality gap: 0.22410745261380122, tolerance: 0.0006706039000000001\n",
      "  model = cd_fast.enet_coordinate_descent(\n",
      "C:\\Users\\USER\\anaconda3\\lib\\site-packages\\sklearn\\linear_model\\_coordinate_descent.py:530: ConvergenceWarning: Objective did not converge. You might want to increase the number of iterations. Duality gap: 0.48773319472987964, tolerance: 0.0008245817750000001\n",
      "  model = cd_fast.enet_coordinate_descent(\n",
      "C:\\Users\\USER\\anaconda3\\lib\\site-packages\\sklearn\\linear_model\\_coordinate_descent.py:530: ConvergenceWarning: Objective did not converge. You might want to increase the number of iterations. Duality gap: 0.1850014291880444, tolerance: 0.0008590157750000001\n",
      "  model = cd_fast.enet_coordinate_descent(\n",
      "C:\\Users\\USER\\anaconda3\\lib\\site-packages\\sklearn\\linear_model\\_coordinate_descent.py:530: ConvergenceWarning: Objective did not converge. You might want to increase the number of iterations. Duality gap: 0.12165472909529274, tolerance: 0.0007997224000000001\n",
      "  model = cd_fast.enet_coordinate_descent(\n",
      "C:\\Users\\USER\\anaconda3\\lib\\site-packages\\sklearn\\linear_model\\_coordinate_descent.py:530: ConvergenceWarning: Objective did not converge. You might want to increase the number of iterations. Duality gap: 0.5926116253584047, tolerance: 0.0008114630999999999\n",
      "  model = cd_fast.enet_coordinate_descent(\n",
      "C:\\Users\\USER\\anaconda3\\lib\\site-packages\\sklearn\\linear_model\\_coordinate_descent.py:530: ConvergenceWarning: Objective did not converge. You might want to increase the number of iterations. Duality gap: 0.1483740968652818, tolerance: 0.0006706039000000001\n",
      "  model = cd_fast.enet_coordinate_descent(\n",
      "C:\\Users\\USER\\anaconda3\\lib\\site-packages\\sklearn\\linear_model\\_coordinate_descent.py:530: ConvergenceWarning: Objective did not converge. You might want to increase the number of iterations. Duality gap: 0.3105681962898818, tolerance: 0.0008245817750000001\n",
      "  model = cd_fast.enet_coordinate_descent(\n",
      "C:\\Users\\USER\\anaconda3\\lib\\site-packages\\sklearn\\linear_model\\_coordinate_descent.py:530: ConvergenceWarning: Objective did not converge. You might want to increase the number of iterations. Duality gap: 0.06924497432422871, tolerance: 0.0008590157750000001\n",
      "  model = cd_fast.enet_coordinate_descent(\n",
      "C:\\Users\\USER\\anaconda3\\lib\\site-packages\\sklearn\\linear_model\\_coordinate_descent.py:530: ConvergenceWarning: Objective did not converge. You might want to increase the number of iterations. Duality gap: 0.03861269270550849, tolerance: 0.0007997224000000001\n",
      "  model = cd_fast.enet_coordinate_descent(\n",
      "C:\\Users\\USER\\anaconda3\\lib\\site-packages\\sklearn\\linear_model\\_coordinate_descent.py:530: ConvergenceWarning: Objective did not converge. You might want to increase the number of iterations. Duality gap: 0.5370884100639928, tolerance: 0.0008114630999999999\n",
      "  model = cd_fast.enet_coordinate_descent(\n",
      "C:\\Users\\USER\\anaconda3\\lib\\site-packages\\sklearn\\linear_model\\_coordinate_descent.py:530: ConvergenceWarning: Objective did not converge. You might want to increase the number of iterations. Duality gap: 0.20204337169081837, tolerance: 0.0006706039000000001\n",
      "  model = cd_fast.enet_coordinate_descent(\n",
      "C:\\Users\\USER\\anaconda3\\lib\\site-packages\\sklearn\\linear_model\\_coordinate_descent.py:530: ConvergenceWarning: Objective did not converge. You might want to increase the number of iterations. Duality gap: 0.6261958180810693, tolerance: 0.0008245817750000001\n",
      "  model = cd_fast.enet_coordinate_descent(\n",
      "C:\\Users\\USER\\anaconda3\\lib\\site-packages\\sklearn\\linear_model\\_coordinate_descent.py:530: ConvergenceWarning: Objective did not converge. You might want to increase the number of iterations. Duality gap: 0.7323017543307954, tolerance: 0.0008590157750000001\n",
      "  model = cd_fast.enet_coordinate_descent(\n",
      "C:\\Users\\USER\\anaconda3\\lib\\site-packages\\sklearn\\linear_model\\_coordinate_descent.py:530: ConvergenceWarning: Objective did not converge. You might want to increase the number of iterations. Duality gap: 0.6706071091856829, tolerance: 0.0007997224000000001\n",
      "  model = cd_fast.enet_coordinate_descent(\n",
      "C:\\Users\\USER\\anaconda3\\lib\\site-packages\\sklearn\\linear_model\\_coordinate_descent.py:530: ConvergenceWarning: Objective did not converge. You might want to increase the number of iterations. Duality gap: 0.2986990116758782, tolerance: 0.0008114630999999999\n",
      "  model = cd_fast.enet_coordinate_descent(\n",
      "C:\\Users\\USER\\anaconda3\\lib\\site-packages\\sklearn\\linear_model\\_coordinate_descent.py:530: ConvergenceWarning: Objective did not converge. You might want to increase the number of iterations. Duality gap: 0.1455170248324903, tolerance: 0.0006706039000000001\n",
      "  model = cd_fast.enet_coordinate_descent(\n",
      "C:\\Users\\USER\\anaconda3\\lib\\site-packages\\sklearn\\linear_model\\_coordinate_descent.py:530: ConvergenceWarning: Objective did not converge. You might want to increase the number of iterations. Duality gap: 0.07437015298559357, tolerance: 0.0006706039000000001\n",
      "  model = cd_fast.enet_coordinate_descent(\n",
      "C:\\Users\\USER\\anaconda3\\lib\\site-packages\\sklearn\\linear_model\\_coordinate_descent.py:530: ConvergenceWarning: Objective did not converge. You might want to increase the number of iterations. Duality gap: 0.035142407018976196, tolerance: 0.0006706039000000001\n",
      "  model = cd_fast.enet_coordinate_descent(\n",
      "C:\\Users\\USER\\anaconda3\\lib\\site-packages\\sklearn\\linear_model\\_coordinate_descent.py:530: ConvergenceWarning: Objective did not converge. You might want to increase the number of iterations. Duality gap: 0.016347039636776417, tolerance: 0.0006706039000000001\n",
      "  model = cd_fast.enet_coordinate_descent(\n",
      "C:\\Users\\USER\\anaconda3\\lib\\site-packages\\sklearn\\linear_model\\_coordinate_descent.py:530: ConvergenceWarning: Objective did not converge. You might want to increase the number of iterations. Duality gap: 0.1696847229303149, tolerance: 0.0008245817750000001\n",
      "  model = cd_fast.enet_coordinate_descent(\n",
      "C:\\Users\\USER\\anaconda3\\lib\\site-packages\\sklearn\\linear_model\\_coordinate_descent.py:530: ConvergenceWarning: Objective did not converge. You might want to increase the number of iterations. Duality gap: 0.18731829570901826, tolerance: 0.0008590157750000001\n",
      "  model = cd_fast.enet_coordinate_descent(\n",
      "C:\\Users\\USER\\anaconda3\\lib\\site-packages\\sklearn\\linear_model\\_coordinate_descent.py:530: ConvergenceWarning: Objective did not converge. You might want to increase the number of iterations. Duality gap: 0.025586189516684454, tolerance: 0.0007997224000000001\n",
      "  model = cd_fast.enet_coordinate_descent(\n",
      "C:\\Users\\USER\\anaconda3\\lib\\site-packages\\sklearn\\linear_model\\_coordinate_descent.py:530: ConvergenceWarning: Objective did not converge. You might want to increase the number of iterations. Duality gap: 0.03110460182943431, tolerance: 0.0008114630999999999\n",
      "  model = cd_fast.enet_coordinate_descent(\n",
      "C:\\Users\\USER\\anaconda3\\lib\\site-packages\\sklearn\\linear_model\\_coordinate_descent.py:530: ConvergenceWarning: Objective did not converge. You might want to increase the number of iterations. Duality gap: 0.7910950882660454, tolerance: 0.00099403862\n",
      "  model = cd_fast.enet_coordinate_descent(\n"
     ]
    },
    {
     "data": {
      "text/plain": [
       "GridSearchCV(cv=5, estimator=Lasso(),\n",
       "             param_grid={'alpha': [0.01, 0.1, 1, 10],\n",
       "                         'max_iter': [100, 500, 1000, 1500, 2000]})"
      ]
     },
     "execution_count": 13,
     "metadata": {},
     "output_type": "execute_result"
    }
   ],
   "source": [
    "hyper_parameter_tuner.fit(X,y)                            #이제 여기에 입력(X)와 출력(y)를 집어 넣는다. 경고문: max_iter 너무 부족"
   ]
  },
  {
   "cell_type": "code",
   "execution_count": 14,
   "id": "8d03aa93",
   "metadata": {},
   "outputs": [
    {
     "data": {
      "text/plain": [
       "{'alpha': 1, 'max_iter': 100}"
      ]
     },
     "execution_count": 14,
     "metadata": {},
     "output_type": "execute_result"
    }
   ],
   "source": [
    "hyper_parameter_tuner.best_params_                       # 최적의 hyper-parameter 추출"
   ]
  },
  {
   "cell_type": "code",
   "execution_count": null,
   "id": "010114cc",
   "metadata": {},
   "outputs": [],
   "source": []
  }
 ],
 "metadata": {
  "kernelspec": {
   "display_name": "Python 3",
   "language": "python",
   "name": "python3"
  },
  "language_info": {
   "codemirror_mode": {
    "name": "ipython",
    "version": 3
   },
   "file_extension": ".py",
   "mimetype": "text/x-python",
   "name": "python",
   "nbconvert_exporter": "python",
   "pygments_lexer": "ipython3",
   "version": "3.8.8"
  }
 },
 "nbformat": 4,
 "nbformat_minor": 5
}
